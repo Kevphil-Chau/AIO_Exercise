{
  "nbformat": 4,
  "nbformat_minor": 0,
  "metadata": {
    "colab": {
      "provenance": []
    },
    "kernelspec": {
      "name": "python3",
      "display_name": "Python 3"
    },
    "language_info": {
      "name": "python"
    }
  },
  "cells": [
    {
      "cell_type": "code",
      "execution_count": 1,
      "metadata": {
        "colab": {
          "base_uri": "https://localhost:8080/"
        },
        "id": "vghRQExtOIND",
        "outputId": "582e47b2-03fd-48d5-c32d-754d3b3f27f9"
      },
      "outputs": [
        {
          "output_type": "stream",
          "name": "stdout",
          "text": [
            "[5, 5, 5, 5, 10, 12, 33, 33]\n"
          ]
        }
      ],
      "source": [
        "# TỰ LUẬN\n",
        "# Question 1: With Chat-GPT support\n",
        "from collections import deque\n",
        "\n",
        "def max_sliding_window(num_list, k):\n",
        "    if not num_list or k <= 0:\n",
        "        return []\n",
        "\n",
        "    result = []\n",
        "    deq = deque()\n",
        "\n",
        "    for i in range(len(num_list)):\n",
        "        # Remove elements out of the current window\n",
        "        if deq and deq[0] == (i - k):\n",
        "            deq.popleft()\n",
        "\n",
        "        # Remove elements from the deque which are smaller than the current element\n",
        "        while deq and num_list[deq[-1]] < num_list[i]:\n",
        "            deq.pop()\n",
        "\n",
        "        # Add the current element index at the end of the deque\n",
        "        deq.append(i)\n",
        "\n",
        "        # The first element in the deque is the largest element in the current window\n",
        "        if i >= (k - 1):\n",
        "            result.append(num_list[deq[0]])\n",
        "\n",
        "    return result\n",
        "\n",
        "num_list = [3, 4, 5, 1, -44, 5, 10, 12, 33, 1]\n",
        "k = 3\n",
        "print(max_sliding_window(num_list, k))"
      ]
    },
    {
      "cell_type": "code",
      "source": [
        "# Question 2: With Chat-GPT support\n",
        "\n",
        "def count_chars(string):\n",
        "    # Create an empty dictionary to store value\n",
        "    char_count = {}\n",
        "\n",
        "    # Iterates each character from the string\n",
        "    for char in string:\n",
        "        # If the character is not in the dictionary, add it with a value of 1\n",
        "        if char in char_count:\n",
        "            char_count[char] += 1\n",
        "        # If the character already exists in the dictionary, assign the value by 1\n",
        "        else:\n",
        "            char_count[char] = 1\n",
        "\n",
        "    return char_count\n",
        "\n",
        "# Examples\n",
        "string1 = 'Happiness'\n",
        "print(count_chars(string1))\n",
        "\n",
        "string2 = 'smiles'\n",
        "print(count_chars(string2))"
      ],
      "metadata": {
        "colab": {
          "base_uri": "https://localhost:8080/"
        },
        "id": "fmo3e_jLQDlF",
        "outputId": "c63cf22e-4cee-4530-f286-57744b329a8c"
      },
      "execution_count": 3,
      "outputs": [
        {
          "output_type": "stream",
          "name": "stdout",
          "text": [
            "{'H': 1, 'a': 1, 'p': 2, 'i': 1, 'n': 1, 'e': 1, 's': 2}\n",
            "{'s': 2, 'm': 1, 'i': 1, 'l': 1, 'e': 1}\n"
          ]
        }
      ]
    },
    {
      "cell_type": "code",
      "source": [
        "# Question 3: With Chat-GPT support\n",
        "\n",
        "def word_count(file_path):\n",
        "    # Create an empty dictionary to store the results\n",
        "    word_count_dict = {}\n",
        "\n",
        "    try:\n",
        "        # Open the file to read\n",
        "        with open(file_path, 'r') as file:\n",
        "            # Read the content in file\n",
        "            content = file.read()\n",
        "            # Convert content to lowercase and separate into the list\n",
        "            words = content.lower().split()\n",
        "\n",
        "\n",
        "            # Check each word in the list\n",
        "            for word in words:\n",
        "                # If the character is not in the dictionary, add it with a value of 1\n",
        "                if word in word_count_dict:\n",
        "                    word_count_dict[word] += 1\n",
        "                # If the character already exists in the dictionary, assign the value by 1\n",
        "                else:\n",
        "                    word_count_dict[word] = 1\n",
        "    except FileNotFoundError:\n",
        "        print(f\"File not found: {file_path}\")\n",
        "    return word_count_dict\n",
        "\n",
        "file_path = '/content/P1_data.txt'\n",
        "print(word_count(file_path))"
      ],
      "metadata": {
        "colab": {
          "base_uri": "https://localhost:8080/"
        },
        "id": "g8eAxe-FTVNr",
        "outputId": "9600cebc-0cdd-4654-961c-4e9c1a781479"
      },
      "execution_count": 4,
      "outputs": [
        {
          "output_type": "stream",
          "name": "stdout",
          "text": [
            "File not found: /content/P1_data.txt\n",
            "{}\n"
          ]
        }
      ]
    },
    {
      "cell_type": "code",
      "source": [
        "# Question 4: With Chat-GPT support\n",
        "\n",
        "def levenshtein_distance(source, target):\n",
        "    m, n = len(source), len(target)\n",
        "\n",
        "    # Initialize the matrix D with dimensions (m+1) x (n+1)\n",
        "    D = [[0] * (n + 1) for i in range(m + 1)]\n",
        "\n",
        "    # Fill the first row and the first column\n",
        "    for i in range(m + 1):\n",
        "        D[i][0] = i\n",
        "    for j in range(n + 1):\n",
        "        D[0][j] = j\n",
        "\n",
        "    # Calculate the cost for the rest of the matrix\n",
        "    for i in range(1, m + 1):\n",
        "        for j in range(1, n + 1):\n",
        "            if source[i - 1] == target[j - 1]:\n",
        "                cost = 0\n",
        "            else:\n",
        "                cost = 1\n",
        "\n",
        "            D[i][j] = min(\n",
        "                D[i - 1][j] + 1,\n",
        "                D[i][j - 1] + 1,\n",
        "                D[i - 1][j - 1] + cost\n",
        "            )\n",
        "\n",
        "    # The Levenshtein distance is the value at the bottom-right of the matrix\n",
        "    distance = D[m][n]\n",
        "\n",
        "    # Backtrack to find the sequence of operations\n",
        "    i, j = m, n\n",
        "    operations = []\n",
        "    while i > 0 or j > 0:\n",
        "        current_cost = D[i][j]\n",
        "        if i > 0 and j > 0 and current_cost == D[i - 1][j - 1] + (0 if source[i - 1] == target[j - 1] else 1):\n",
        "            if source[i - 1] != target[j - 1]:\n",
        "                operations.append(f\"Substitute '{source[i - 1]}' with '{target[j - 1]}'\")\n",
        "            i -= 1\n",
        "            j -= 1\n",
        "        elif i > 0 and current_cost == D[i - 1][j] + 1:\n",
        "            operations.append(f\"Delete '{source[i - 1]}'\")\n",
        "            i -= 1\n",
        "        else:\n",
        "            operations.append(f\"Insert '{target[j - 1]}'\")\n",
        "            j -= 1\n",
        "\n",
        "    operations.reverse()\n",
        "    return distance, operations\n",
        "\n",
        "# Example usage\n",
        "source = \"kitten\"\n",
        "target = \"sitting\"\n",
        "distance, operations = levenshtein_distance(source, target)\n",
        "print(f\"Levenshtein distance: {distance}\")\n",
        "print(\"Operations:\")\n",
        "for op in operations:\n",
        "    print(op)"
      ],
      "metadata": {
        "colab": {
          "base_uri": "https://localhost:8080/"
        },
        "id": "6P_c-XDdbMtS",
        "outputId": "749a0f05-0792-452a-e9b6-4029c2ee7e2e"
      },
      "execution_count": 6,
      "outputs": [
        {
          "output_type": "stream",
          "name": "stdout",
          "text": [
            "Levenshtein distance: 3\n",
            "Operations:\n",
            "Substitute 'k' with 's'\n",
            "Substitute 'e' with 'i'\n",
            "Insert 'g'\n"
          ]
        }
      ]
    },
    {
      "cell_type": "code",
      "source": [
        "# TRẮC NGHIỆM - With Chat GPT support\n",
        "# Question 1: Answer A\n",
        "from collections import deque\n",
        "\n",
        "def max_kernel(num_list, k):\n",
        "    result = []\n",
        "    deq = deque()  # A deque to store the indexes of useful elements in the current window\n",
        "\n",
        "    for i in range(len(num_list)):\n",
        "        # Remove elements not within the window\n",
        "        while deq and deq[0] < i - k + 1:\n",
        "            deq.popleft()\n",
        "\n",
        "        # Remove elements smaller than the current element from the deque\n",
        "        while deq and num_list[deq[-1]] < num_list[i]:\n",
        "            deq.pop()\n",
        "\n",
        "        # Add current element at the end of the deque\n",
        "        deq.append(i)\n",
        "\n",
        "        # The front of the deque contains the index of the maximum element of the window\n",
        "        if i >= k - 1:\n",
        "            result.append(num_list[deq[0]])\n",
        "\n",
        "    return result\n",
        "\n",
        "# Test the function with the provided assertions\n",
        "assert max_kernel([3, 4, 5, 1, -44], 3) == [5, 5, 5]\n",
        "\n",
        "# Test with the given num_list and k\n",
        "num_list = [3, 4, 5, 1, -44, 5, 10, 12, 33, 1]\n",
        "k = 3\n",
        "print(max_kernel(num_list, k))"
      ],
      "metadata": {
        "colab": {
          "base_uri": "https://localhost:8080/"
        },
        "id": "_Z2O4mNIdG5g",
        "outputId": "adae67d3-bcae-4cc8-85fd-e4d41186fe83"
      },
      "execution_count": 7,
      "outputs": [
        {
          "output_type": "stream",
          "name": "stdout",
          "text": [
            "[5, 5, 5, 5, 10, 12, 33, 33]\n"
          ]
        }
      ]
    },
    {
      "cell_type": "code",
      "source": [
        "# Question 2: Answer A\n",
        "\n",
        "def character_count(word):\n",
        "    character_statistic = {}\n",
        "\n",
        "    # Remove leading and trailing whitespaces from the word\n",
        "    word = word.strip()\n",
        "\n",
        "    # Count occurrences of each character\n",
        "    for char in word:\n",
        "        if char in character_statistic:\n",
        "            character_statistic[char] += 1\n",
        "        else:\n",
        "            character_statistic[char] = 1\n",
        "\n",
        "    return character_statistic\n",
        "\n",
        "# Test the function with assertions and print statement\n",
        "assert character_count(\" Baby \") == {'B': 1, 'a': 1, 'b': 1, 'y': 1}\n",
        "\n",
        "# Print the result for the given example\n",
        "print(character_count('smiles '))"
      ],
      "metadata": {
        "colab": {
          "base_uri": "https://localhost:8080/"
        },
        "id": "kRRrMBYJgSD4",
        "outputId": "43d30683-41c2-452f-a1b4-ceeac6b9822c"
      },
      "execution_count": 8,
      "outputs": [
        {
          "output_type": "stream",
          "name": "stdout",
          "text": [
            "{'s': 2, 'm': 1, 'i': 1, 'l': 1, 'e': 1}\n"
          ]
        }
      ]
    },
    {
      "cell_type": "code",
      "source": [
        "# Question 3: Answer C\n",
        "import re\n",
        "\n",
        "def count_word(file_path):\n",
        "    counter = {}\n",
        "\n",
        "    # Open the file and read line by line\n",
        "    with open(file_path, 'r', encoding='utf-8') as file:\n",
        "        for line in file:\n",
        "            # Split each line into words using regex for word boundaries\n",
        "            words = re.findall(r'\\b\\w+\\b', line.lower())\n",
        "\n",
        "            # Count occurrences of each word\n",
        "            for word in words:\n",
        "                if word in counter:\n",
        "                    counter[word] += 1\n",
        "                else:\n",
        "                    counter[word] = 1\n",
        "\n",
        "    return counter\n",
        "\n",
        "# Define the file path where P1_data.txt is located\n",
        "file_path = '/content/P1_data.txt'\n",
        "\n",
        "# Call the count_word function with the file path\n",
        "result = count_word(file_path)\n",
        "\n",
        "# Assert statement to verify a specific word count (example provided was cut off)\n",
        "assert result['who'] == 1\n",
        "\n",
        "print(result)"
      ],
      "metadata": {
        "id": "X8lLnnWMg5kM"
      },
      "execution_count": null,
      "outputs": []
    },
    {
      "cell_type": "code",
      "source": [
        "# Question 4: Answer D\n",
        "\n",
        "def levenshtein_distance(token1, token2):\n",
        "\n",
        "  # Get the lengths of the strings\n",
        "  n = len(token1)\n",
        "  m = len(token2)\n",
        "\n",
        "  # Create a matrix to store Levenshtein distances\n",
        "  distance = [[0 for i in range(m + 1)] for _ in range(n + 1)]\n",
        "\n",
        "  # Initialize the base cases (empty strings)\n",
        "  for i in range(n + 1):\n",
        "    distance[i][0] = i\n",
        "  for j in range(m + 1):\n",
        "    distance[0][j] = j\n",
        "\n",
        "  # Calculate Levenshtein distance for each position in the matrix\n",
        "  for i in range(1, n + 1):\n",
        "    for j in range(1, m + 1):\n",
        "      if token1[i - 1] == token2[j - 1]:\n",
        "        distance[i][j] = distance[i - 1][j - 1]\n",
        "      else:\n",
        "        # Calculate cost of each operation (deletion, insertion, substitution)\n",
        "        deletion = distance[i - 1][j] + 1\n",
        "        insertion = distance[i][j - 1] + 1\n",
        "        substitution = distance[i - 1][j - 1] + 1\n",
        "        distance[i][j] = min(deletion, insertion, substitution)\n",
        "\n",
        "  return distance[n][m]\n",
        "\n",
        "  # Example usage\n",
        "assert levenshtein_distance(\"hi\", \" hello\") == 4.0\n",
        "print(levenshtein_distance(\"hola\", \"hello\"))"
      ],
      "metadata": {
        "colab": {
          "base_uri": "https://localhost:8080/",
          "height": 193
        },
        "id": "Rfso96cDg-N9",
        "outputId": "41e6a615-a966-4635-c1bc-31bed166eba2"
      },
      "execution_count": 20,
      "outputs": [
        {
          "output_type": "error",
          "ename": "AssertionError",
          "evalue": "",
          "traceback": [
            "\u001b[0;31m---------------------------------------------------------------------------\u001b[0m",
            "\u001b[0;31mAssertionError\u001b[0m                            Traceback (most recent call last)",
            "\u001b[0;32m<ipython-input-20-89bb6c9dd074>\u001b[0m in \u001b[0;36m<cell line: 33>\u001b[0;34m()\u001b[0m\n\u001b[1;32m     31\u001b[0m \u001b[0;34m\u001b[0m\u001b[0m\n\u001b[1;32m     32\u001b[0m   \u001b[0;31m# Example usage\u001b[0m\u001b[0;34m\u001b[0m\u001b[0;34m\u001b[0m\u001b[0m\n\u001b[0;32m---> 33\u001b[0;31m \u001b[0;32massert\u001b[0m \u001b[0mlevenshtein_distance\u001b[0m\u001b[0;34m(\u001b[0m\u001b[0;34m\"hi\"\u001b[0m\u001b[0;34m,\u001b[0m \u001b[0;34m\" hello\"\u001b[0m\u001b[0;34m)\u001b[0m \u001b[0;34m==\u001b[0m \u001b[0;36m4.0\u001b[0m\u001b[0;34m\u001b[0m\u001b[0;34m\u001b[0m\u001b[0m\n\u001b[0m\u001b[1;32m     34\u001b[0m \u001b[0mprint\u001b[0m\u001b[0;34m(\u001b[0m\u001b[0mlevenshtein_distance\u001b[0m\u001b[0;34m(\u001b[0m\u001b[0;34m\"hola\"\u001b[0m\u001b[0;34m,\u001b[0m \u001b[0;34m\"hello\"\u001b[0m\u001b[0;34m)\u001b[0m\u001b[0;34m)\u001b[0m\u001b[0;34m\u001b[0m\u001b[0;34m\u001b[0m\u001b[0m\n",
            "\u001b[0;31mAssertionError\u001b[0m: "
          ]
        }
      ]
    },
    {
      "cell_type": "code",
      "source": [
        "# Question 5: Answer A\n",
        "def check_the_number(N):\n",
        "\n",
        "  list_of_numbers = [i for i in range(1, 5)]  # Generate list from 1 to 4\n",
        "  result = \"\"\n",
        "\n",
        "  if N in list_of_numbers:\n",
        "    result = \"True\"\n",
        "  else:\n",
        "    result = \"False\"\n",
        "\n",
        "  return result\n",
        "\n",
        "# Test cases\n",
        "N = 7\n",
        "assert check_the_number(N) == \"False\"\n",
        "\n",
        "N = 2\n",
        "result = check_the_number(N)\n",
        "print(result)"
      ],
      "metadata": {
        "colab": {
          "base_uri": "https://localhost:8080/"
        },
        "id": "xCBI-F1LnrIO",
        "outputId": "8bb94d0e-5768-49c1-ce90-f89629e64da4"
      },
      "execution_count": 21,
      "outputs": [
        {
          "output_type": "stream",
          "name": "stdout",
          "text": [
            "True\n"
          ]
        }
      ]
    },
    {
      "cell_type": "code",
      "source": [
        "# Question 6: Answer C\n",
        "\n",
        "def my_function(data, max, min):\n",
        "\n",
        "  result = []\n",
        "  for i in data:\n",
        "    if i < min:\n",
        "      result.append(min)\n",
        "    elif i > max:\n",
        "      result.append(max)\n",
        "    else:\n",
        "      result.append(i)\n",
        "\n",
        "  return result\n",
        "\n",
        "# Test Cases\n",
        "my_list = [5, 2, 5, 0, 1]\n",
        "max = 1\n",
        "min = 0\n",
        "assert my_function(max=max, min=min, data=my_list) == [1, 1, 1, 0, 1]\n",
        "\n",
        "my_list = [10, 2, 5, 0, 1]\n",
        "max = 2\n",
        "min = 1\n",
        "print(my_function(max=max, min=min, data=my_list))"
      ],
      "metadata": {
        "colab": {
          "base_uri": "https://localhost:8080/"
        },
        "id": "zkS56oZHoHNS",
        "outputId": "b3bb6ce4-5f6e-4b86-dbfa-67140d109537"
      },
      "execution_count": 22,
      "outputs": [
        {
          "output_type": "stream",
          "name": "stdout",
          "text": [
            "[2, 2, 2, 1, 1]\n"
          ]
        }
      ]
    },
    {
      "cell_type": "code",
      "source": [
        "# Question 7: Answer A\n",
        "\n",
        "def my_function(x, y):\n",
        "\n",
        "  # Use extend to efficiently append elements from y to a copy of x\n",
        "  return x.copy() + y\n",
        "\n",
        "# Test Cases\n",
        "list_num1 = ['a', 2, 5]\n",
        "list_num2 = [1, 1]\n",
        "list_num3 = [0, 0]\n",
        "\n",
        "assert my_function(list_num1, my_function(list_num2, list_num3)) == ['a', 2, 5, 1, 1, 0, 0]\n",
        "\n",
        "list_num1 = [1, 2]\n",
        "list_num2 = [3, 4]\n",
        "list_num3 = [0, 0]\n",
        "\n",
        "print(my_function(list_num1, my_function(list_num2, list_num3)))"
      ],
      "metadata": {
        "colab": {
          "base_uri": "https://localhost:8080/"
        },
        "id": "J1_z3c1zoaBA",
        "outputId": "a7c4dbb6-4f3a-477b-8f53-b8cac2b20579"
      },
      "execution_count": 23,
      "outputs": [
        {
          "output_type": "stream",
          "name": "stdout",
          "text": [
            "[1, 2, 3, 4, 0, 0]\n"
          ]
        }
      ]
    },
    {
      "cell_type": "code",
      "source": [
        "# Question 8: Answer C\n",
        "\n",
        "def my_function(n):\n",
        "\n",
        "    if len(n) == 0:\n",
        "        raise ValueError(\"List is empty\")\n",
        "    min_value = n[0]\n",
        "\n",
        "    for num in n[1:]:\n",
        "        if num < min_value:\n",
        "            min_value = num\n",
        "\n",
        "    return min_value\n",
        "\n",
        "# Test Cases\n",
        "my_list = [1, 22, 93, -100]\n",
        "assert my_function(my_list) == -100\n",
        "\n",
        "my_list = [1, 2, 3, -1]\n",
        "print(my_function(my_list))"
      ],
      "metadata": {
        "colab": {
          "base_uri": "https://localhost:8080/"
        },
        "id": "4XZeyx8HovMU",
        "outputId": "963367e6-f41d-468f-8bdc-9e7126d07e05"
      },
      "execution_count": 24,
      "outputs": [
        {
          "output_type": "stream",
          "name": "stdout",
          "text": [
            "-1\n"
          ]
        }
      ]
    },
    {
      "cell_type": "code",
      "source": [
        "# Question 9 : Answer D\n",
        "\n",
        "def my_function(n):\n",
        "\n",
        "    if len(n) == 0:\n",
        "        raise ValueError(\"List is empty\")\n",
        "\n",
        "    max_value = n[0]\n",
        "\n",
        "    for num in n[1:]:\n",
        "        if num > max_value:\n",
        "            max_value = num\n",
        "\n",
        "    return max_value\n",
        "\n",
        "# Test Cases\n",
        "my_list = [1001, 9, 100, 0]\n",
        "assert my_function(my_list) == 1001\n",
        "\n",
        "my_list = [1, 9, 9, 0]\n",
        "print(my_function(my_list))\n"
      ],
      "metadata": {
        "colab": {
          "base_uri": "https://localhost:8080/"
        },
        "id": "YpqIN8Ghpy6k",
        "outputId": "bf3644fc-1c08-44a2-f02a-825a00e51f28"
      },
      "execution_count": 25,
      "outputs": [
        {
          "output_type": "stream",
          "name": "stdout",
          "text": [
            "9\n"
          ]
        }
      ]
    },
    {
      "cell_type": "code",
      "source": [
        "# Question 10: Answer C\n",
        "\n",
        "def My_function(integers, number=1):\n",
        "\n",
        "    # Use list comprehension to efficiently check each element and return True if found\n",
        "    return any(element == number for element in integers)\n",
        "\n",
        "# Test Cases\n",
        "my_list = [1, 3, 9, 4]\n",
        "assert My_function(my_list, -1) == False\n",
        "\n",
        "my_list = [1, 2, 3, 4]\n",
        "print(My_function(my_list, 2))"
      ],
      "metadata": {
        "colab": {
          "base_uri": "https://localhost:8080/"
        },
        "id": "mU7RcjP7p9zR",
        "outputId": "83b0ceb8-8868-4d8d-dad9-d1c6d80a0c34"
      },
      "execution_count": 26,
      "outputs": [
        {
          "output_type": "stream",
          "name": "stdout",
          "text": [
            "True\n"
          ]
        }
      ]
    },
    {
      "cell_type": "code",
      "source": [
        "# Question 11 : Answer A\n",
        "\n",
        "def my_function(list_nums=[0, 1, 2]):\n",
        "\n",
        "    total = 0\n",
        "    for num in list_nums:\n",
        "        total += num\n",
        "\n",
        "    if len(list_nums) == 0:\n",
        "        return 0\n",
        "\n",
        "    average = total / len(list_nums)\n",
        "    return average\n",
        "\n",
        "# Test Cases\n",
        "assert my_function([4, 6, 8]) == 6\n",
        "print(my_function())"
      ],
      "metadata": {
        "colab": {
          "base_uri": "https://localhost:8080/"
        },
        "id": "n2D2Pk2hqUpx",
        "outputId": "2106d582-56ba-45b4-d80a-7cc5f3a583a1"
      },
      "execution_count": 27,
      "outputs": [
        {
          "output_type": "stream",
          "name": "stdout",
          "text": [
            "1.0\n"
          ]
        }
      ]
    },
    {
      "cell_type": "code",
      "source": [
        "# Question 12: Answer A\n",
        "\n",
        "def my_function(data):\n",
        "\n",
        "    result_list = []\n",
        "    for i in data:\n",
        "        if i % 3 == 0:\n",
        "            result_list.append(i)\n",
        "\n",
        "    return result_list\n",
        "\n",
        "# Test Cases\n",
        "assert my_function([3, 9, 4, 5]) == [3, 9]\n",
        "print(my_function([1, 2, 3, 5, 6]))"
      ],
      "metadata": {
        "colab": {
          "base_uri": "https://localhost:8080/"
        },
        "id": "Yri_86NCqw5m",
        "outputId": "b266ae97-34f8-41ed-e0eb-72d8e6e2185e"
      },
      "execution_count": 28,
      "outputs": [
        {
          "output_type": "stream",
          "name": "stdout",
          "text": [
            "[3, 6]\n"
          ]
        }
      ]
    },
    {
      "cell_type": "code",
      "source": [
        "# Question 13: Answer C\n",
        "\n",
        "def my_function(y):\n",
        "\n",
        "    if y < 0:\n",
        "        raise ValueError(\"Input must be a non-negative integer\")\n",
        "\n",
        "    var = 1\n",
        "\n",
        "    while y > 1:\n",
        "        var *= y\n",
        "        y -= 1\n",
        "\n",
        "    return var\n",
        "\n",
        "# Test Cases\n",
        "assert my_function(8) == 40320\n",
        "print(my_function(4))"
      ],
      "metadata": {
        "colab": {
          "base_uri": "https://localhost:8080/"
        },
        "id": "cuhQK3MCq8cA",
        "outputId": "dcccdace-4eb2-40e0-d9be-386202208763"
      },
      "execution_count": 29,
      "outputs": [
        {
          "output_type": "stream",
          "name": "stdout",
          "text": [
            "24\n"
          ]
        }
      ]
    },
    {
      "cell_type": "code",
      "source": [
        "# Question 14: Answer C\n",
        "\n",
        "def my_function(x):\n",
        "\n",
        "    return x[::-1]\n",
        "\n",
        "# Test Cases\n",
        "x = 'I can do it '\n",
        "assert my_function(x) == \"ti od nac I\"\n",
        "\n",
        "x = 'apricot '\n",
        "print(my_function(x))"
      ],
      "metadata": {
        "colab": {
          "base_uri": "https://localhost:8080/",
          "height": 211
        },
        "id": "xwwKMvX9rWAY",
        "outputId": "24232834-cd18-4f17-820a-a68905b0f5dc"
      },
      "execution_count": 30,
      "outputs": [
        {
          "output_type": "error",
          "ename": "AssertionError",
          "evalue": "",
          "traceback": [
            "\u001b[0;31m---------------------------------------------------------------------------\u001b[0m",
            "\u001b[0;31mAssertionError\u001b[0m                            Traceback (most recent call last)",
            "\u001b[0;32m<ipython-input-30-706c7222a945>\u001b[0m in \u001b[0;36m<cell line: 9>\u001b[0;34m()\u001b[0m\n\u001b[1;32m      7\u001b[0m \u001b[0;31m# Test Cases\u001b[0m\u001b[0;34m\u001b[0m\u001b[0;34m\u001b[0m\u001b[0m\n\u001b[1;32m      8\u001b[0m \u001b[0mx\u001b[0m \u001b[0;34m=\u001b[0m \u001b[0;34m'I can do it '\u001b[0m\u001b[0;34m\u001b[0m\u001b[0;34m\u001b[0m\u001b[0m\n\u001b[0;32m----> 9\u001b[0;31m \u001b[0;32massert\u001b[0m \u001b[0mmy_function\u001b[0m\u001b[0;34m(\u001b[0m\u001b[0mx\u001b[0m\u001b[0;34m)\u001b[0m \u001b[0;34m==\u001b[0m \u001b[0;34m\"ti od nac I\"\u001b[0m\u001b[0;34m\u001b[0m\u001b[0;34m\u001b[0m\u001b[0m\n\u001b[0m\u001b[1;32m     10\u001b[0m \u001b[0;34m\u001b[0m\u001b[0m\n\u001b[1;32m     11\u001b[0m \u001b[0mx\u001b[0m \u001b[0;34m=\u001b[0m \u001b[0;34m'apricot '\u001b[0m\u001b[0;34m\u001b[0m\u001b[0;34m\u001b[0m\u001b[0m\n",
            "\u001b[0;31mAssertionError\u001b[0m: "
          ]
        }
      ]
    },
    {
      "cell_type": "code",
      "source": [
        "# Question 15 : Answer C\n",
        "def function_helper(x):\n",
        "\n",
        "    if x > 0:\n",
        "        return 'T'\n",
        "    else:\n",
        "        return 'N'\n",
        "\n",
        "def my_function(data):\n",
        "\n",
        "    results = [function_helper(x) for x in data]\n",
        "    return results\n",
        "\n",
        "# Test Cases\n",
        "data = [10, 0, -10, -1]\n",
        "assert my_function(data) == ['T', 'N', 'N', 'N']\n",
        "\n",
        "data = [2, 3, 5, -1]\n",
        "print(my_function(data))"
      ],
      "metadata": {
        "colab": {
          "base_uri": "https://localhost:8080/"
        },
        "id": "4IYD8X24rqOf",
        "outputId": "bafebcc6-f7e2-4620-d146-6a09a268fb4b"
      },
      "execution_count": 31,
      "outputs": [
        {
          "output_type": "stream",
          "name": "stdout",
          "text": [
            "['T', 'T', 'T', 'N']\n"
          ]
        }
      ]
    },
    {
      "cell_type": "code",
      "source": [
        "# Question 16 : Answer A\n",
        "\n",
        "def function_helper(x, data):\n",
        "\n",
        "    for i in data:\n",
        "        if x == i:\n",
        "            return 0\n",
        "    return 1\n",
        "\n",
        "def my_function(data):\n",
        "\n",
        "    result = []\n",
        "    for i in data:\n",
        "        if function_helper(i, result) == 1:\n",
        "            result.append(i)\n",
        "\n",
        "    return result\n",
        "\n",
        "# Test Cases\n",
        "lst = [10, 10, 9, 7, 7]\n",
        "assert my_function(lst) == [10, 9, 7]\n",
        "\n",
        "lst = [9, 9, 8, 1, 1]\n",
        "print(my_function(lst))"
      ],
      "metadata": {
        "colab": {
          "base_uri": "https://localhost:8080/"
        },
        "id": "8RALMJC9rzrR",
        "outputId": "d4269505-9caf-4875-aacf-1546a95e8b2d"
      },
      "execution_count": 32,
      "outputs": [
        {
          "output_type": "stream",
          "name": "stdout",
          "text": [
            "[9, 8, 1]\n"
          ]
        }
      ]
    }
  ]
}